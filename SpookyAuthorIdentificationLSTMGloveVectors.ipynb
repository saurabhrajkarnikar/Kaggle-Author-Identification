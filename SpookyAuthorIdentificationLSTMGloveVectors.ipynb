{
 "cells": [
  {
   "cell_type": "code",
   "execution_count": 1,
   "metadata": {},
   "outputs": [
    {
     "name": "stderr",
     "output_type": "stream",
     "text": [
      "Using TensorFlow backend.\n"
     ]
    }
   ],
   "source": [
    "import pandas as pd\n",
    "import numpy as np\n",
    "\n",
    "from keras.models import Sequential\n",
    "from keras.layers.recurrent import LSTM\n",
    "from keras.layers.embeddings import Embedding\n",
    "from keras.layers import Bidirectional, SpatialDropout1D\n",
    "from keras.optimizers import SGD,Adam,RMSprop\n",
    "from keras.layers.core import Dense,Activation,Dropout\n",
    "from keras.utils import np_utils\n",
    "from keras.callbacks import EarlyStopping\n",
    "from keras.preprocessing import sequence,text\n",
    "from keras.callbacks import Callback,EarlyStopping,ReduceLROnPlateau\n",
    "\n",
    "from sklearn.model_selection import train_test_split\n",
    "from sklearn.preprocessing import LabelEncoder\n",
    "\n",
    "from nltk import word_tokenize\n",
    "from nltk.corpus import stopwords\n",
    "stop_words = stopwords.words('english')\n",
    "\n",
    "from tqdm import tqdm\n",
    "\n",
    "import matplotlib.pyplot as plt\n",
    "%matplotlib inline"
   ]
  },
  {
   "cell_type": "code",
   "execution_count": 2,
   "metadata": {
    "collapsed": true
   },
   "outputs": [],
   "source": [
    "train_df = pd.read_csv('../input/train.csv')\n",
    "test_df = pd.read_csv('../input/test.csv')\n",
    "sample_df = pd.read_csv('../input/sample_submission.csv')"
   ]
  },
  {
   "cell_type": "code",
   "execution_count": 3,
   "metadata": {},
   "outputs": [
    {
     "data": {
      "text/html": [
       "<div>\n",
       "<style>\n",
       "    .dataframe thead tr:only-child th {\n",
       "        text-align: right;\n",
       "    }\n",
       "\n",
       "    .dataframe thead th {\n",
       "        text-align: left;\n",
       "    }\n",
       "\n",
       "    .dataframe tbody tr th {\n",
       "        vertical-align: top;\n",
       "    }\n",
       "</style>\n",
       "<table border=\"1\" class=\"dataframe\">\n",
       "  <thead>\n",
       "    <tr style=\"text-align: right;\">\n",
       "      <th></th>\n",
       "      <th>id</th>\n",
       "      <th>text</th>\n",
       "      <th>author</th>\n",
       "    </tr>\n",
       "  </thead>\n",
       "  <tbody>\n",
       "    <tr>\n",
       "      <th>0</th>\n",
       "      <td>id26305</td>\n",
       "      <td>This process, however, afforded me no means of...</td>\n",
       "      <td>EAP</td>\n",
       "    </tr>\n",
       "    <tr>\n",
       "      <th>1</th>\n",
       "      <td>id17569</td>\n",
       "      <td>It never once occurred to me that the fumbling...</td>\n",
       "      <td>HPL</td>\n",
       "    </tr>\n",
       "    <tr>\n",
       "      <th>2</th>\n",
       "      <td>id11008</td>\n",
       "      <td>In his left hand was a gold snuff box, from wh...</td>\n",
       "      <td>EAP</td>\n",
       "    </tr>\n",
       "    <tr>\n",
       "      <th>3</th>\n",
       "      <td>id27763</td>\n",
       "      <td>How lovely is spring As we looked from Windsor...</td>\n",
       "      <td>MWS</td>\n",
       "    </tr>\n",
       "    <tr>\n",
       "      <th>4</th>\n",
       "      <td>id12958</td>\n",
       "      <td>Finding nothing else, not even gold, the Super...</td>\n",
       "      <td>HPL</td>\n",
       "    </tr>\n",
       "  </tbody>\n",
       "</table>\n",
       "</div>"
      ],
      "text/plain": [
       "        id                                               text author\n",
       "0  id26305  This process, however, afforded me no means of...    EAP\n",
       "1  id17569  It never once occurred to me that the fumbling...    HPL\n",
       "2  id11008  In his left hand was a gold snuff box, from wh...    EAP\n",
       "3  id27763  How lovely is spring As we looked from Windsor...    MWS\n",
       "4  id12958  Finding nothing else, not even gold, the Super...    HPL"
      ]
     },
     "execution_count": 3,
     "metadata": {},
     "output_type": "execute_result"
    }
   ],
   "source": [
    "train_df.head()"
   ]
  },
  {
   "cell_type": "code",
   "execution_count": 4,
   "metadata": {},
   "outputs": [
    {
     "data": {
      "text/plain": [
       "(19579, 3)"
      ]
     },
     "execution_count": 4,
     "metadata": {},
     "output_type": "execute_result"
    }
   ],
   "source": [
    "train_df.shape"
   ]
  },
  {
   "cell_type": "code",
   "execution_count": 5,
   "metadata": {},
   "outputs": [
    {
     "data": {
      "text/plain": [
       "array(['EAP', 'HPL', 'MWS'], dtype=object)"
      ]
     },
     "execution_count": 5,
     "metadata": {},
     "output_type": "execute_result"
    }
   ],
   "source": [
    "#check authors\n",
    "train_df.author.unique()"
   ]
  },
  {
   "cell_type": "code",
   "execution_count": 6,
   "metadata": {},
   "outputs": [
    {
     "data": {
      "text/html": [
       "<div>\n",
       "<style>\n",
       "    .dataframe thead tr:only-child th {\n",
       "        text-align: right;\n",
       "    }\n",
       "\n",
       "    .dataframe thead th {\n",
       "        text-align: left;\n",
       "    }\n",
       "\n",
       "    .dataframe tbody tr th {\n",
       "        vertical-align: top;\n",
       "    }\n",
       "</style>\n",
       "<table border=\"1\" class=\"dataframe\">\n",
       "  <thead>\n",
       "    <tr style=\"text-align: right;\">\n",
       "      <th></th>\n",
       "      <th>id</th>\n",
       "      <th>text</th>\n",
       "    </tr>\n",
       "  </thead>\n",
       "  <tbody>\n",
       "    <tr>\n",
       "      <th>0</th>\n",
       "      <td>id02310</td>\n",
       "      <td>Still, as I urged our leaving Ireland with suc...</td>\n",
       "    </tr>\n",
       "    <tr>\n",
       "      <th>1</th>\n",
       "      <td>id24541</td>\n",
       "      <td>If a fire wanted fanning, it could readily be ...</td>\n",
       "    </tr>\n",
       "    <tr>\n",
       "      <th>2</th>\n",
       "      <td>id00134</td>\n",
       "      <td>And when they had broken down the frail door t...</td>\n",
       "    </tr>\n",
       "    <tr>\n",
       "      <th>3</th>\n",
       "      <td>id27757</td>\n",
       "      <td>While I was thinking how I should possibly man...</td>\n",
       "    </tr>\n",
       "    <tr>\n",
       "      <th>4</th>\n",
       "      <td>id04081</td>\n",
       "      <td>I am not sure to what limit his knowledge may ...</td>\n",
       "    </tr>\n",
       "  </tbody>\n",
       "</table>\n",
       "</div>"
      ],
      "text/plain": [
       "        id                                               text\n",
       "0  id02310  Still, as I urged our leaving Ireland with suc...\n",
       "1  id24541  If a fire wanted fanning, it could readily be ...\n",
       "2  id00134  And when they had broken down the frail door t...\n",
       "3  id27757  While I was thinking how I should possibly man...\n",
       "4  id04081  I am not sure to what limit his knowledge may ..."
      ]
     },
     "execution_count": 6,
     "metadata": {},
     "output_type": "execute_result"
    }
   ],
   "source": [
    "test_df.head()"
   ]
  },
  {
   "cell_type": "code",
   "execution_count": 7,
   "metadata": {},
   "outputs": [
    {
     "name": "stdout",
     "output_type": "stream",
     "text": [
      "('max', 97)\n",
      "('min', 27)\n"
     ]
    }
   ],
   "source": [
    "#check what is the maximum and the minimum length of text\n",
    "print('max',len(train_df.text.max()))\n",
    "print('min',len(train_df.text.min()))"
   ]
  },
  {
   "cell_type": "code",
   "execution_count": 8,
   "metadata": {},
   "outputs": [
    {
     "name": "stdout",
     "output_type": "stream",
     "text": [
      "('max', 'you could not hope to conquer, and yet you gave me the pain of a triumph over my dearest friend.\"')\n",
      "('min', '\" Odenheimer, restaurateur.')\n"
     ]
    }
   ],
   "source": [
    "#print the max and min length text\n",
    "print('max',train_df.text.max())\n",
    "print('min',train_df.text.min())"
   ]
  },
  {
   "cell_type": "code",
   "execution_count": 9,
   "metadata": {
    "collapsed": true
   },
   "outputs": [],
   "source": [
    "#convert the authors/labels into one hot encoded values\n",
    "lbl_enc = LabelEncoder()\n",
    "y = lbl_enc.fit_transform(train_df.author.values)\n",
    "y = np_utils.to_categorical(y)"
   ]
  },
  {
   "cell_type": "code",
   "execution_count": 10,
   "metadata": {
    "collapsed": true
   },
   "outputs": [],
   "source": [
    "#divide the data into train and validation \n",
    "x_train, x_valid, y_train, y_valid = train_test_split(train_df.text.values,\n",
    "                                                      y,\n",
    "                                                      stratify = y,\n",
    "                                                     random_state = 2018,\n",
    "                                                     test_size = 0.2)"
   ]
  },
  {
   "cell_type": "code",
   "execution_count": 11,
   "metadata": {},
   "outputs": [
    {
     "name": "stdout",
     "output_type": "stream",
     "text": [
      "[[11, 8, 1670, 4, 491, 1, 162, 154, 6, 4304, 2476, 57, 751, 99, 3509]]\n",
      "[[  11    8 1670    4  491    1  162  154    6 4304 2476   57  751   99\n",
      "  3509    0    0    0    0    0    0    0    0    0    0    0    0    0\n",
      "     0    0    0    0    0    0    0    0    0    0    0    0    0    0\n",
      "     0    0    0    0    0    0    0    0    0    0    0    0    0    0\n",
      "     0    0    0    0    0    0    0    0    0    0    0    0    0    0\n",
      "     0    0    0    0    0    0    0    0    0    0]]\n"
     ]
    }
   ],
   "source": [
    "#use Keras Tokenizer to tokenize the texts\n",
    "token = text.Tokenizer(num_words = None)\n",
    "max_len = 80\n",
    "\n",
    "token.fit_on_texts(list(x_train) + list(x_valid))\n",
    "xtrain_seq = token.texts_to_sequences(x_train)\n",
    "xvalid_seq = token.texts_to_sequences(x_valid)\n",
    "\n",
    "print(xtrain_seq[:1])\n",
    "# zero pad the sequences\n",
    "xtrain_pad = sequence.pad_sequences(xtrain_seq, maxlen=max_len,padding = 'post')\n",
    "xvalid_pad = sequence.pad_sequences(xvalid_seq, maxlen=max_len,padding = 'post')\n",
    "print(xtrain_pad[:1])"
   ]
  },
  {
   "cell_type": "code",
   "execution_count": 12,
   "metadata": {},
   "outputs": [
    {
     "name": "stderr",
     "output_type": "stream",
     "text": [
      "2196017it [01:11, 30853.32it/s]"
     ]
    },
    {
     "name": "stdout",
     "output_type": "stream",
     "text": [
      "Found 2196016 word vectors.\n"
     ]
    },
    {
     "name": "stderr",
     "output_type": "stream",
     "text": [
      "\n"
     ]
    }
   ],
   "source": [
    "# load the GloVe vectors in a dictionary:\n",
    "embeddings = {}\n",
    "f = open('../../WordVectors/glove.840B.300d.txt')\n",
    "for line in tqdm(f):\n",
    "    values = line.split()\n",
    "    word = values[0]\n",
    "    vector = np.asarray(values[1:], dtype='float32')\n",
    "    embeddings[word] = vector\n",
    "f.close()\n",
    "\n",
    "print('%s word vectors loaded.' % len(embeddings_index))"
   ]
  },
  {
   "cell_type": "code",
   "execution_count": 13,
   "metadata": {
    "collapsed": true
   },
   "outputs": [],
   "source": [
    "word_index = token.word_index"
   ]
  },
  {
   "cell_type": "code",
   "execution_count": 14,
   "metadata": {},
   "outputs": [
    {
     "name": "stderr",
     "output_type": "stream",
     "text": [
      "100%|██████████| 22564/22564 [00:00<00:00, 473833.95it/s]\n"
     ]
    }
   ],
   "source": [
    "# create an embedding matrix for the words we have in our dataset\n",
    "embedding_matrix = np.zeros((len(word_index) + 1, 300))\n",
    "for word, i in tqdm(word_index.items()):\n",
    "    embedding_vector = embeddings.get(word)\n",
    "    if embedding_vector is not None:\n",
    "        embedding_matrix[i] = embedding_vector"
   ]
  },
  {
   "cell_type": "code",
   "execution_count": 15,
   "metadata": {
    "collapsed": true
   },
   "outputs": [],
   "source": [
    "#word_index = token.word_index\n",
    "def create_model():\n",
    "    model = Sequential()\n",
    "    model.add(Embedding(len(word_index) + 1,\n",
    "                         300,\n",
    "                        weights = [embedding_matrix],\n",
    "                        trainable = True,\n",
    "                         input_length=max_len))\n",
    "    model.add(SpatialDropout1D(0.3))\n",
    "    model.add(Bidirectional(LSTM(300, dropout=0.3, recurrent_dropout=0.3,return_sequences = True)))\n",
    "    model.add(Bidirectional(LSTM(300, dropout=0.3, recurrent_dropout=0.3)))\n",
    "\n",
    "    model.add(Dense(512, activation='relu'))\n",
    "    model.add(Dropout(0.5))\n",
    "\n",
    "    model.add(Dense(512, activation='relu'))\n",
    "    model.add(Dropout(0.5))\n",
    "\n",
    "    model.add(Dense(3))\n",
    "    model.add(Activation('softmax'))\n",
    "    #adam = Adam(lr=0.01, decay = 0.01)\n",
    "    sgd = SGD(lr=0.01,momentum=0.9,nesterov = True)\n",
    "    model.compile(loss='categorical_crossentropy', optimizer=sgd,\n",
    "                 metrics=['accuracy'])\n",
    "    return model"
   ]
  },
  {
   "cell_type": "code",
   "execution_count": 16,
   "metadata": {
    "collapsed": true
   },
   "outputs": [],
   "source": [
    "## Callback for loss logging per epoch\n",
    "class LossHistory(Callback):\n",
    "    def on_train_begin(self, logs={}):\n",
    "        self.losses = []\n",
    "        self.val_losses = []\n",
    "        self.acc = []\n",
    "        self.val_acc = []\n",
    "        \n",
    "    def on_epoch_end(self, batch, logs={}):\n",
    "        self.losses.append(logs.get('loss'))\n",
    "        self.val_losses.append(logs.get('val_loss'))\n",
    "        self.acc.append(logs.get('acc'))\n",
    "        self.val_acc.append(logs.get('val_acc'))\n",
    "\n",
    "history = LossHistory()"
   ]
  },
  {
   "cell_type": "code",
   "execution_count": 17,
   "metadata": {
    "collapsed": true
   },
   "outputs": [],
   "source": [
    "def plot_loss():\n",
    "    #plot training curve\n",
    "    loss = history.losses\n",
    "    val_loss = history.val_losses\n",
    "    acc = history.acc\n",
    "    val_acc = history.val_acc\n",
    "\n",
    "    plt.xlabel('Epochs')\n",
    "    plt.ylabel('Loss')\n",
    "    plt.title('Acc - Loss Trend')\n",
    "    plt.plot(loss, 'blue', label='Training Loss')\n",
    "    plt.plot(val_loss, 'green', label='Validation Loss')\n",
    "    plt.plot(acc, 'black', label='Training Accuracy')\n",
    "    plt.plot(val_acc, 'red', label='Validation Accuracy')\n",
    "    plt.xticks(range(0,10)[0::2])\n",
    "    plt.legend()\n",
    "    plt.show()\n",
    "    "
   ]
  },
  {
   "cell_type": "code",
   "execution_count": 18,
   "metadata": {},
   "outputs": [
    {
     "name": "stdout",
     "output_type": "stream",
     "text": [
      "Train on 15663 samples, validate on 3916 samples\n",
      "Epoch 1/100\n",
      "15663/15663 [==============================] - 60s - loss: 1.0364 - acc: 0.4679 - val_loss: 0.9210 - val_acc: 0.5891\n",
      "Epoch 2/100\n",
      "15663/15663 [==============================] - 58s - loss: 0.9449 - acc: 0.5701 - val_loss: 0.8410 - val_acc: 0.6236\n",
      "Epoch 3/100\n",
      "15663/15663 [==============================] - 57s - loss: 0.8834 - acc: 0.6162 - val_loss: 0.7359 - val_acc: 0.7033\n",
      "Epoch 4/100\n",
      "15663/15663 [==============================] - 57s - loss: 0.8243 - acc: 0.6533 - val_loss: 0.7477 - val_acc: 0.7219\n",
      "Epoch 5/100\n",
      "15663/15663 [==============================] - 57s - loss: 0.7589 - acc: 0.6880 - val_loss: 0.6433 - val_acc: 0.7561\n",
      "Epoch 6/100\n",
      "15663/15663 [==============================] - 57s - loss: 0.7145 - acc: 0.7144 - val_loss: 0.5922 - val_acc: 0.7610\n",
      "Epoch 7/100\n",
      "15663/15663 [==============================] - 58s - loss: 0.6599 - acc: 0.7399 - val_loss: 0.6470 - val_acc: 0.7408\n",
      "Epoch 8/100\n",
      "15663/15663 [==============================] - 57s - loss: 0.6101 - acc: 0.7649 - val_loss: 0.5922 - val_acc: 0.7454\n",
      "Epoch 9/100\n",
      "15663/15663 [==============================] - 57s - loss: 0.5783 - acc: 0.7769 - val_loss: 0.5421 - val_acc: 0.7998\n",
      "Epoch 10/100\n",
      "15663/15663 [==============================] - 57s - loss: 0.5473 - acc: 0.7958 - val_loss: 0.4845 - val_acc: 0.8044\n",
      "Epoch 11/100\n",
      "15663/15663 [==============================] - 57s - loss: 0.5085 - acc: 0.8125 - val_loss: 0.4775 - val_acc: 0.8248\n",
      "Epoch 12/100\n",
      "15663/15663 [==============================] - 57s - loss: 0.4687 - acc: 0.8256 - val_loss: 0.4512 - val_acc: 0.8320\n",
      "Epoch 13/100\n",
      "15663/15663 [==============================] - 57s - loss: 0.4362 - acc: 0.8371 - val_loss: 0.4348 - val_acc: 0.8315\n",
      "Epoch 14/100\n",
      "15663/15663 [==============================] - 57s - loss: 0.4122 - acc: 0.8478 - val_loss: 0.4140 - val_acc: 0.8491\n",
      "Epoch 15/100\n",
      "15663/15663 [==============================] - 57s - loss: 0.3820 - acc: 0.8584 - val_loss: 0.3946 - val_acc: 0.8481\n",
      "Epoch 16/100\n",
      "15663/15663 [==============================] - 58s - loss: 0.3560 - acc: 0.8712 - val_loss: 0.4358 - val_acc: 0.8442\n",
      "Epoch 17/100\n",
      "15663/15663 [==============================] - 57s - loss: 0.3389 - acc: 0.8776 - val_loss: 0.3728 - val_acc: 0.8601\n",
      "Epoch 18/100\n",
      "15663/15663 [==============================] - 57s - loss: 0.3052 - acc: 0.8908 - val_loss: 0.3683 - val_acc: 0.8675\n",
      "Epoch 19/100\n",
      "15663/15663 [==============================] - 57s - loss: 0.2911 - acc: 0.8999 - val_loss: 0.3539 - val_acc: 0.8739\n",
      "Epoch 20/100\n",
      "15663/15663 [==============================] - 58s - loss: 0.2619 - acc: 0.9099 - val_loss: 0.3932 - val_acc: 0.8733\n",
      "Epoch 21/100\n",
      "15663/15663 [==============================] - 58s - loss: 0.2562 - acc: 0.9104 - val_loss: 0.3914 - val_acc: 0.8733\n",
      "Epoch 22/100\n",
      "15663/15663 [==============================] - 57s - loss: 0.2339 - acc: 0.9178 - val_loss: 0.3494 - val_acc: 0.8818\n",
      "Epoch 23/100\n",
      "15663/15663 [==============================] - 57s - loss: 0.2168 - acc: 0.9230 - val_loss: 0.3675 - val_acc: 0.8838\n",
      "Epoch 24/100\n",
      "15663/15663 [==============================] - 57s - loss: 0.2099 - acc: 0.9265 - val_loss: 0.3837 - val_acc: 0.8892\n",
      "Epoch 25/100\n",
      "15663/15663 [==============================] - 58s - loss: 0.1813 - acc: 0.9369 - val_loss: 0.3541 - val_acc: 0.8922\n",
      "Epoch 26/100\n",
      "15663/15663 [==============================] - 58s - loss: 0.1836 - acc: 0.9376 - val_loss: 0.3418 - val_acc: 0.8930\n",
      "Epoch 27/100\n",
      "15663/15663 [==============================] - 60s - loss: 0.1704 - acc: 0.9396 - val_loss: 0.3552 - val_acc: 0.8994\n",
      "Epoch 28/100\n",
      "15663/15663 [==============================] - 58s - loss: 0.1626 - acc: 0.9455 - val_loss: 0.3586 - val_acc: 0.8927\n",
      "Epoch 29/100\n",
      "15663/15663 [==============================] - 58s - loss: 0.1449 - acc: 0.9503 - val_loss: 0.3675 - val_acc: 0.8968\n",
      "Epoch 30/100\n",
      "15616/15663 [============================>.] - ETA: 0s - loss: 0.1408 - acc: 0.9520\n",
      "Epoch 00029: reducing learning rate to 0.010000000149.\n",
      "15663/15663 [==============================] - 60s - loss: 0.1408 - acc: 0.9519 - val_loss: 0.3590 - val_acc: 0.8991\n",
      "Epoch 31/100\n",
      "15663/15663 [==============================] - 58s - loss: 0.1157 - acc: 0.9598 - val_loss: 0.3597 - val_acc: 0.9007\n",
      "Epoch 32/100\n",
      "15663/15663 [==============================] - 57s - loss: 0.1070 - acc: 0.9640 - val_loss: 0.3638 - val_acc: 0.8968\n",
      "Epoch 33/100\n",
      "15616/15663 [============================>.] - ETA: 0s - loss: 0.1066 - acc: 0.9636\n",
      "Epoch 00032: reducing learning rate to 0.000999999977648.\n",
      "15663/15663 [==============================] - 58s - loss: 0.1071 - acc: 0.9635 - val_loss: 0.3527 - val_acc: 0.9022\n"
     ]
    },
    {
     "data": {
      "text/plain": [
       "<keras.callbacks.History at 0x7fcdb427fdd0>"
      ]
     },
     "execution_count": 18,
     "metadata": {},
     "output_type": "execute_result"
    }
   ],
   "source": [
    "earlystop = EarlyStopping(monitor='val_loss', patience=6, verbose=0, mode='auto')\n",
    "reduceLR = ReduceLROnPlateau(monitor='val_loss', factor=0.1, patience=3, verbose=1, mode='min', epsilon=0.0001, min_lr=0.0000001)\n",
    "\n",
    "model = create_model()\n",
    "model.fit(xtrain_pad, y=y_train, batch_size=64, epochs=100, verbose=1, \n",
    "          validation_data=(xvalid_pad, y_valid), callbacks=[earlystop,history,reduceLR])"
   ]
  },
  {
   "cell_type": "code",
   "execution_count": 19,
   "metadata": {},
   "outputs": [
    {
     "data": {
      "image/png": "[encoded data removed]",
      "text/plain": [
       "<matplotlib.figure.Figure at 0x7fce3c134890>"
      ]
     },
     "metadata": {},
     "output_type": "display_data"
    }
   ],
   "source": [
    "plot_loss()"
   ]
  },
  {
   "cell_type": "code",
   "execution_count": 20,
   "metadata": {
    "collapsed": true
   },
   "outputs": [],
   "source": [
    "#the same operations are also carried out on the test set\n",
    "xtest_seq = token.texts_to_sequences(test_df.text)\n",
    "xtest_pad = sequence.pad_sequences(xtest_seq,maxlen = max_len,padding = 'post')"
   ]
  },
  {
   "cell_type": "code",
   "execution_count": 21,
   "metadata": {
    "collapsed": true
   },
   "outputs": [],
   "source": [
    "# Now predict\n",
    "prediction = model.predict(xtest_pad)"
   ]
  },
  {
   "cell_type": "code",
   "execution_count": 22,
   "metadata": {},
   "outputs": [
    {
     "data": {
      "text/html": [
       "<div>\n",
       "<style>\n",
       "    .dataframe thead tr:only-child th {\n",
       "        text-align: right;\n",
       "    }\n",
       "\n",
       "    .dataframe thead th {\n",
       "        text-align: left;\n",
       "    }\n",
       "\n",
       "    .dataframe tbody tr th {\n",
       "        vertical-align: top;\n",
       "    }\n",
       "</style>\n",
       "<table border=\"1\" class=\"dataframe\">\n",
       "  <thead>\n",
       "    <tr style=\"text-align: right;\">\n",
       "      <th></th>\n",
       "      <th>id</th>\n",
       "      <th>EAP</th>\n",
       "      <th>HPL</th>\n",
       "      <th>MWS</th>\n",
       "    </tr>\n",
       "  </thead>\n",
       "  <tbody>\n",
       "    <tr>\n",
       "      <th>0</th>\n",
       "      <td>id02310</td>\n",
       "      <td>0.000569</td>\n",
       "      <td>0.000413</td>\n",
       "      <td>0.999017</td>\n",
       "    </tr>\n",
       "    <tr>\n",
       "      <th>1</th>\n",
       "      <td>id24541</td>\n",
       "      <td>0.999985</td>\n",
       "      <td>0.000012</td>\n",
       "      <td>0.000003</td>\n",
       "    </tr>\n",
       "    <tr>\n",
       "      <th>2</th>\n",
       "      <td>id00134</td>\n",
       "      <td>0.000094</td>\n",
       "      <td>0.999831</td>\n",
       "      <td>0.000075</td>\n",
       "    </tr>\n",
       "    <tr>\n",
       "      <th>3</th>\n",
       "      <td>id27757</td>\n",
       "      <td>0.995035</td>\n",
       "      <td>0.004858</td>\n",
       "      <td>0.000107</td>\n",
       "    </tr>\n",
       "    <tr>\n",
       "      <th>4</th>\n",
       "      <td>id04081</td>\n",
       "      <td>0.894464</td>\n",
       "      <td>0.032369</td>\n",
       "      <td>0.073168</td>\n",
       "    </tr>\n",
       "  </tbody>\n",
       "</table>\n",
       "</div>"
      ],
      "text/plain": [
       "        id       EAP       HPL       MWS\n",
       "0  id02310  0.000569  0.000413  0.999017\n",
       "1  id24541  0.999985  0.000012  0.000003\n",
       "2  id00134  0.000094  0.999831  0.000075\n",
       "3  id27757  0.995035  0.004858  0.000107\n",
       "4  id04081  0.894464  0.032369  0.073168"
      ]
     },
     "execution_count": 22,
     "metadata": {},
     "output_type": "execute_result"
    }
   ],
   "source": [
    "a2c = {'EAP': 0, 'HPL' : 1, 'MWS' : 2}\n",
    "result = pd.read_csv('../input/sample_submission.csv')\n",
    "for a, i in a2c.items():\n",
    "    result[a] = prediction[:, i]\n",
    "    \n",
    "result.to_csv('../submit/lstmsubmission.csv',index = False)\n",
    "result.head()"
   ]
  },
  {
   "cell_type": "code",
   "execution_count": 23,
   "metadata": {},
   "outputs": [
    {
     "data": {
      "text/html": [
       "<div>\n",
       "<style>\n",
       "    .dataframe thead tr:only-child th {\n",
       "        text-align: right;\n",
       "    }\n",
       "\n",
       "    .dataframe thead th {\n",
       "        text-align: left;\n",
       "    }\n",
       "\n",
       "    .dataframe tbody tr th {\n",
       "        vertical-align: top;\n",
       "    }\n",
       "</style>\n",
       "<table border=\"1\" class=\"dataframe\">\n",
       "  <thead>\n",
       "    <tr style=\"text-align: right;\">\n",
       "      <th></th>\n",
       "      <th>id</th>\n",
       "      <th>EAP</th>\n",
       "      <th>HPL</th>\n",
       "      <th>MWS</th>\n",
       "    </tr>\n",
       "  </thead>\n",
       "  <tbody>\n",
       "    <tr>\n",
       "      <th>0</th>\n",
       "      <td>id02310</td>\n",
       "      <td>0.000569</td>\n",
       "      <td>0.000413</td>\n",
       "      <td>0.999017</td>\n",
       "    </tr>\n",
       "    <tr>\n",
       "      <th>1</th>\n",
       "      <td>id24541</td>\n",
       "      <td>0.999985</td>\n",
       "      <td>0.000012</td>\n",
       "      <td>0.000003</td>\n",
       "    </tr>\n",
       "    <tr>\n",
       "      <th>2</th>\n",
       "      <td>id00134</td>\n",
       "      <td>0.000094</td>\n",
       "      <td>0.999831</td>\n",
       "      <td>0.000075</td>\n",
       "    </tr>\n",
       "    <tr>\n",
       "      <th>3</th>\n",
       "      <td>id27757</td>\n",
       "      <td>0.995035</td>\n",
       "      <td>0.004858</td>\n",
       "      <td>0.000107</td>\n",
       "    </tr>\n",
       "    <tr>\n",
       "      <th>4</th>\n",
       "      <td>id04081</td>\n",
       "      <td>0.894464</td>\n",
       "      <td>0.032369</td>\n",
       "      <td>0.073168</td>\n",
       "    </tr>\n",
       "    <tr>\n",
       "      <th>5</th>\n",
       "      <td>id27337</td>\n",
       "      <td>0.886410</td>\n",
       "      <td>0.064986</td>\n",
       "      <td>0.048604</td>\n",
       "    </tr>\n",
       "    <tr>\n",
       "      <th>6</th>\n",
       "      <td>id24265</td>\n",
       "      <td>0.998065</td>\n",
       "      <td>0.001659</td>\n",
       "      <td>0.000276</td>\n",
       "    </tr>\n",
       "    <tr>\n",
       "      <th>7</th>\n",
       "      <td>id25917</td>\n",
       "      <td>0.105234</td>\n",
       "      <td>0.171933</td>\n",
       "      <td>0.722833</td>\n",
       "    </tr>\n",
       "    <tr>\n",
       "      <th>8</th>\n",
       "      <td>id04951</td>\n",
       "      <td>0.999959</td>\n",
       "      <td>0.000039</td>\n",
       "      <td>0.000002</td>\n",
       "    </tr>\n",
       "    <tr>\n",
       "      <th>9</th>\n",
       "      <td>id14549</td>\n",
       "      <td>0.998531</td>\n",
       "      <td>0.000901</td>\n",
       "      <td>0.000568</td>\n",
       "    </tr>\n",
       "  </tbody>\n",
       "</table>\n",
       "</div>"
      ],
      "text/plain": [
       "        id       EAP       HPL       MWS\n",
       "0  id02310  0.000569  0.000413  0.999017\n",
       "1  id24541  0.999985  0.000012  0.000003\n",
       "2  id00134  0.000094  0.999831  0.000075\n",
       "3  id27757  0.995035  0.004858  0.000107\n",
       "4  id04081  0.894464  0.032369  0.073168\n",
       "5  id27337  0.886410  0.064986  0.048604\n",
       "6  id24265  0.998065  0.001659  0.000276\n",
       "7  id25917  0.105234  0.171933  0.722833\n",
       "8  id04951  0.999959  0.000039  0.000002\n",
       "9  id14549  0.998531  0.000901  0.000568"
      ]
     },
     "execution_count": 23,
     "metadata": {},
     "output_type": "execute_result"
    }
   ],
   "source": [
    "result.head(10)"
   ]
  },
  {
   "cell_type": "code",
   "execution_count": null,
   "metadata": {
    "collapsed": true
   },
   "outputs": [],
   "source": []
  }
 ],
 "metadata": {
  "kernelspec": {
   "display_name": "Python 2",
   "language": "python",
   "name": "python2"
  },
  "language_info": {
   "codemirror_mode": {
    "name": "ipython",
    "version": 2
   },
   "file_extension": ".py",
   "mimetype": "text/x-python",
   "name": "python",
   "nbconvert_exporter": "python",
   "pygments_lexer": "ipython2",
   "version": "2.7.12"
  }
 },
 "nbformat": 4,
 "nbformat_minor": 2
}
