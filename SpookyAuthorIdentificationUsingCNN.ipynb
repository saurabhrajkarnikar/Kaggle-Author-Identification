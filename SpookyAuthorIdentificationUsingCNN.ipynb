{
 "cells": [
  {
   "cell_type": "code",
   "execution_count": 1,
   "metadata": {},
   "outputs": [
    {
     "name": "stderr",
     "output_type": "stream",
     "text": [
      "Using TensorFlow backend.\n"
     ]
    }
   ],
   "source": [
    "import pandas as pd\n",
    "import numpy as np\n",
    "\n",
    "from keras.models import Sequential\n",
    "from keras.layers.recurrent import LSTM\n",
    "from keras.layers.embeddings import Embedding\n",
    "from keras.layers import Bidirectional, SpatialDropout1D,Conv1D,GlobalMaxPooling1D\n",
    "from keras.optimizers import SGD,Adam\n",
    "from keras.layers.core import Dense,Activation,Dropout\n",
    "from keras.utils import np_utils\n",
    "from keras.callbacks import EarlyStopping\n",
    "from keras.preprocessing import sequence,text\n",
    "from keras.callbacks import Callback,EarlyStopping,ReduceLROnPlateau\n",
    "\n",
    "from sklearn.model_selection import train_test_split\n",
    "from sklearn.preprocessing import LabelEncoder\n",
    "\n",
    "from tqdm import tqdm\n",
    "\n",
    "import matplotlib.pyplot as plt\n",
    "%matplotlib inline"
   ]
  },
  {
   "cell_type": "code",
   "execution_count": 2,
   "metadata": {
    "collapsed": true
   },
   "outputs": [],
   "source": [
    "train_df = pd.read_csv('../input/train.csv')\n",
    "test_df = pd.read_csv('../input/test.csv')\n",
    "sample_df = pd.read_csv('../input/sample_submission.csv')"
   ]
  },
  {
   "cell_type": "code",
   "execution_count": 3,
   "metadata": {},
   "outputs": [
    {
     "data": {
      "text/html": [
       "<div>\n",
       "<style>\n",
       "    .dataframe thead tr:only-child th {\n",
       "        text-align: right;\n",
       "    }\n",
       "\n",
       "    .dataframe thead th {\n",
       "        text-align: left;\n",
       "    }\n",
       "\n",
       "    .dataframe tbody tr th {\n",
       "        vertical-align: top;\n",
       "    }\n",
       "</style>\n",
       "<table border=\"1\" class=\"dataframe\">\n",
       "  <thead>\n",
       "    <tr style=\"text-align: right;\">\n",
       "      <th></th>\n",
       "      <th>id</th>\n",
       "      <th>text</th>\n",
       "      <th>author</th>\n",
       "    </tr>\n",
       "  </thead>\n",
       "  <tbody>\n",
       "    <tr>\n",
       "      <th>0</th>\n",
       "      <td>id26305</td>\n",
       "      <td>This process, however, afforded me no means of...</td>\n",
       "      <td>EAP</td>\n",
       "    </tr>\n",
       "    <tr>\n",
       "      <th>1</th>\n",
       "      <td>id17569</td>\n",
       "      <td>It never once occurred to me that the fumbling...</td>\n",
       "      <td>HPL</td>\n",
       "    </tr>\n",
       "    <tr>\n",
       "      <th>2</th>\n",
       "      <td>id11008</td>\n",
       "      <td>In his left hand was a gold snuff box, from wh...</td>\n",
       "      <td>EAP</td>\n",
       "    </tr>\n",
       "    <tr>\n",
       "      <th>3</th>\n",
       "      <td>id27763</td>\n",
       "      <td>How lovely is spring As we looked from Windsor...</td>\n",
       "      <td>MWS</td>\n",
       "    </tr>\n",
       "    <tr>\n",
       "      <th>4</th>\n",
       "      <td>id12958</td>\n",
       "      <td>Finding nothing else, not even gold, the Super...</td>\n",
       "      <td>HPL</td>\n",
       "    </tr>\n",
       "  </tbody>\n",
       "</table>\n",
       "</div>"
      ],
      "text/plain": [
       "        id                                               text author\n",
       "0  id26305  This process, however, afforded me no means of...    EAP\n",
       "1  id17569  It never once occurred to me that the fumbling...    HPL\n",
       "2  id11008  In his left hand was a gold snuff box, from wh...    EAP\n",
       "3  id27763  How lovely is spring As we looked from Windsor...    MWS\n",
       "4  id12958  Finding nothing else, not even gold, the Super...    HPL"
      ]
     },
     "execution_count": 3,
     "metadata": {},
     "output_type": "execute_result"
    }
   ],
   "source": [
    "train_df.head()"
   ]
  },
  {
   "cell_type": "code",
   "execution_count": 4,
   "metadata": {},
   "outputs": [
    {
     "data": {
      "text/plain": [
       "array(['EAP', 'HPL', 'MWS'], dtype=object)"
      ]
     },
     "execution_count": 4,
     "metadata": {},
     "output_type": "execute_result"
    }
   ],
   "source": [
    "#check authors\n",
    "train_df.author.unique()"
   ]
  },
  {
   "cell_type": "code",
   "execution_count": 5,
   "metadata": {},
   "outputs": [
    {
     "data": {
      "text/html": [
       "<div>\n",
       "<style>\n",
       "    .dataframe thead tr:only-child th {\n",
       "        text-align: right;\n",
       "    }\n",
       "\n",
       "    .dataframe thead th {\n",
       "        text-align: left;\n",
       "    }\n",
       "\n",
       "    .dataframe tbody tr th {\n",
       "        vertical-align: top;\n",
       "    }\n",
       "</style>\n",
       "<table border=\"1\" class=\"dataframe\">\n",
       "  <thead>\n",
       "    <tr style=\"text-align: right;\">\n",
       "      <th></th>\n",
       "      <th>id</th>\n",
       "      <th>text</th>\n",
       "    </tr>\n",
       "  </thead>\n",
       "  <tbody>\n",
       "    <tr>\n",
       "      <th>0</th>\n",
       "      <td>id02310</td>\n",
       "      <td>Still, as I urged our leaving Ireland with suc...</td>\n",
       "    </tr>\n",
       "    <tr>\n",
       "      <th>1</th>\n",
       "      <td>id24541</td>\n",
       "      <td>If a fire wanted fanning, it could readily be ...</td>\n",
       "    </tr>\n",
       "    <tr>\n",
       "      <th>2</th>\n",
       "      <td>id00134</td>\n",
       "      <td>And when they had broken down the frail door t...</td>\n",
       "    </tr>\n",
       "    <tr>\n",
       "      <th>3</th>\n",
       "      <td>id27757</td>\n",
       "      <td>While I was thinking how I should possibly man...</td>\n",
       "    </tr>\n",
       "    <tr>\n",
       "      <th>4</th>\n",
       "      <td>id04081</td>\n",
       "      <td>I am not sure to what limit his knowledge may ...</td>\n",
       "    </tr>\n",
       "  </tbody>\n",
       "</table>\n",
       "</div>"
      ],
      "text/plain": [
       "        id                                               text\n",
       "0  id02310  Still, as I urged our leaving Ireland with suc...\n",
       "1  id24541  If a fire wanted fanning, it could readily be ...\n",
       "2  id00134  And when they had broken down the frail door t...\n",
       "3  id27757  While I was thinking how I should possibly man...\n",
       "4  id04081  I am not sure to what limit his knowledge may ..."
      ]
     },
     "execution_count": 5,
     "metadata": {},
     "output_type": "execute_result"
    }
   ],
   "source": [
    "test_df.head()"
   ]
  },
  {
   "cell_type": "code",
   "execution_count": 6,
   "metadata": {},
   "outputs": [
    {
     "name": "stdout",
     "output_type": "stream",
     "text": [
      "('max', 97)\n",
      "('min', 27)\n"
     ]
    }
   ],
   "source": [
    "#check what is the maximum and the minimum length of text\n",
    "print('max',len(train_df.text.max()))\n",
    "print('min',len(train_df.text.min()))"
   ]
  },
  {
   "cell_type": "code",
   "execution_count": 7,
   "metadata": {},
   "outputs": [
    {
     "name": "stdout",
     "output_type": "stream",
     "text": [
      "('max', 'you could not hope to conquer, and yet you gave me the pain of a triumph over my dearest friend.\"')\n",
      "('min', '\" Odenheimer, restaurateur.')\n"
     ]
    }
   ],
   "source": [
    "#print the max and min length text\n",
    "print('max',train_df.text.max())\n",
    "print('min',train_df.text.min())"
   ]
  },
  {
   "cell_type": "code",
   "execution_count": 8,
   "metadata": {
    "collapsed": true
   },
   "outputs": [],
   "source": [
    "#convert the authors/labels into one hot encoded values\n",
    "lbl_enc = LabelEncoder()\n",
    "y = lbl_enc.fit_transform(train_df.author.values)\n",
    "y = np_utils.to_categorical(y)"
   ]
  },
  {
   "cell_type": "code",
   "execution_count": 9,
   "metadata": {
    "collapsed": true
   },
   "outputs": [],
   "source": [
    "#divide the data into train and validation \n",
    "x_train, x_valid, y_train, y_valid = train_test_split(train_df.text.values,\n",
    "                                                      y,\n",
    "                                                      stratify = y,\n",
    "                                                     random_state = 2018,\n",
    "                                                     test_size = 0.2)"
   ]
  },
  {
   "cell_type": "code",
   "execution_count": 10,
   "metadata": {},
   "outputs": [
    {
     "name": "stdout",
     "output_type": "stream",
     "text": [
      "[[11, 8, 1670, 4, 491, 1, 162, 154, 6, 4304, 2476, 57, 751, 99, 3509]]\n",
      "[[  11    8 1670    4  491    1  162  154    6 4304 2476   57  751   99\n",
      "  3509    0    0    0    0    0    0    0    0    0    0    0    0    0\n",
      "     0    0    0    0    0    0    0    0    0    0    0    0    0    0\n",
      "     0    0    0    0    0    0    0    0    0    0    0    0    0    0\n",
      "     0    0    0    0    0    0    0    0    0    0    0    0    0    0\n",
      "     0    0    0    0    0    0    0    0    0    0]]\n"
     ]
    }
   ],
   "source": [
    "#tokenize the texts using Keras Tokenizer\n",
    "token = text.Tokenizer(num_words = None)\n",
    "max_len = 80\n",
    "\n",
    "token.fit_on_texts(list(x_train) + list(x_valid))\n",
    "xtrain_seq = token.texts_to_sequences(x_train)\n",
    "xvalid_seq = token.texts_to_sequences(x_valid)\n",
    "\n",
    "print(xtrain_seq[:1])\n",
    "# zero pad the sequences\n",
    "xtrain_pad = sequence.pad_sequences(xtrain_seq, maxlen=max_len,padding = 'post')\n",
    "xvalid_pad = sequence.pad_sequences(xvalid_seq, maxlen=max_len,padding = 'post')\n",
    "print(xtrain_pad[:1])"
   ]
  },
  {
   "cell_type": "code",
   "execution_count": 11,
   "metadata": {},
   "outputs": [
    {
     "name": "stderr",
     "output_type": "stream",
     "text": [
      "2196017it [01:10, 31259.87it/s]"
     ]
    },
    {
     "name": "stdout",
     "output_type": "stream",
     "text": [
      "2196016 word vectors loaded.\n"
     ]
    },
    {
     "name": "stderr",
     "output_type": "stream",
     "text": [
      "\n"
     ]
    }
   ],
   "source": [
    "# load the GloVe vectors into a dictionary:\n",
    "embeddings = {}\n",
    "f = open('../../WordVectors/glove.840B.300d.txt')\n",
    "for line in tqdm(f):\n",
    "    values = line.split()\n",
    "    word = values[0]\n",
    "    vector = np.asarray(values[1:], dtype='float32')\n",
    "    embeddings[word] = vector\n",
    "f.close()\n",
    "\n",
    "print('%s word vectors loaded.' % len(embeddings))"
   ]
  },
  {
   "cell_type": "code",
   "execution_count": 12,
   "metadata": {
    "collapsed": true
   },
   "outputs": [],
   "source": [
    "word_index = token.word_index"
   ]
  },
  {
   "cell_type": "code",
   "execution_count": 13,
   "metadata": {},
   "outputs": [
    {
     "name": "stderr",
     "output_type": "stream",
     "text": [
      "100%|██████████| 22564/22564 [00:00<00:00, 553283.65it/s]\n"
     ]
    }
   ],
   "source": [
    "# create an embedding matrix for the words we have in our dataset\n",
    "embedding_matrix = np.zeros((len(word_index) + 1, 300))\n",
    "for word, i in tqdm(word_index.items()):\n",
    "    embedding_vector = embeddings.get(word)\n",
    "    if embedding_vector is not None:\n",
    "        embedding_matrix[i] = embedding_vector"
   ]
  },
  {
   "cell_type": "code",
   "execution_count": 14,
   "metadata": {},
   "outputs": [],
   "source": [
    "filters = 256\n",
    "kernel_size = 3\n",
    "\n",
    "model = Sequential()\n",
    "model.add(Embedding(len(word_index) + 1,\n",
    "                     300,\n",
    "                    weights = [embedding_matrix],\n",
    "                    trainable = True,\n",
    "                     input_length=max_len))\n",
    "model.add(SpatialDropout1D(0.6))\n",
    "model.add(Conv1D(filters,kernel_size,padding = 'valid',activation = 'relu',strides = 1))\n",
    "model.add(Conv1D(filters,kernel_size,padding = 'valid',activation = 'relu',strides = 1))\n",
    "model.add(GlobalMaxPooling1D())\n",
    "\n",
    "model.add(Dense(512, activation='relu'))\n",
    "model.add(Dropout(0.6))\n",
    "\n",
    "model.add(Dense(512, activation='relu'))\n",
    "model.add(Dropout(0.6))\n",
    "\n",
    "model.add(Dense(3))\n",
    "model.add(Activation('softmax'))\n",
    "#sgd = SGD(lr = 0.001,nesterov = True,momentum=0.9)\n",
    "adam = Adam(lr = 0.001)\n",
    "model.compile(loss='categorical_crossentropy', optimizer=adam,\n",
    "             metrics=['accuracy'])"
   ]
  },
  {
   "cell_type": "code",
   "execution_count": 15,
   "metadata": {
    "collapsed": true
   },
   "outputs": [],
   "source": [
    "## Callback for loss logging per epoch\n",
    "class LossHistory(Callback):\n",
    "    def on_train_begin(self, logs={}):\n",
    "        self.losses = []\n",
    "        self.val_losses = []\n",
    "        self.acc = []\n",
    "        self.val_acc = []\n",
    "        \n",
    "    def on_epoch_end(self, batch, logs={}):\n",
    "        self.losses.append(logs.get('loss'))\n",
    "        self.val_losses.append(logs.get('val_loss'))\n",
    "        self.acc.append(logs.get('acc'))\n",
    "        self.val_acc.append(logs.get('val_acc'))\n",
    "\n",
    "history = LossHistory()"
   ]
  },
  {
   "cell_type": "code",
   "execution_count": 16,
   "metadata": {
    "collapsed": true
   },
   "outputs": [],
   "source": [
    "def plot_loss():\n",
    "    #plot training curve\n",
    "    loss = history.losses\n",
    "    val_loss = history.val_losses\n",
    "    acc = history.acc\n",
    "    val_acc = history.val_acc\n",
    "\n",
    "    plt.xlabel('Epochs')\n",
    "    plt.ylabel('Loss')\n",
    "    plt.title('Acc - Loss Trend')\n",
    "    plt.plot(loss, 'blue', label='Training Loss')\n",
    "    plt.plot(val_loss, 'green', label='Validation Loss')\n",
    "    plt.plot(acc, 'black', label='Training Accuracy')\n",
    "    plt.plot(val_acc, 'red', label='Validation Accuracy')\n",
    "    plt.xticks(range(0,10)[0::2])\n",
    "    plt.legend()\n",
    "    plt.show()\n",
    "    "
   ]
  },
  {
   "cell_type": "code",
   "execution_count": 17,
   "metadata": {},
   "outputs": [
    {
     "name": "stdout",
     "output_type": "stream",
     "text": [
      "Train on 15663 samples, validate on 3916 samples\n",
      "Epoch 1/50\n",
      "15663/15663 [==============================] - 2s - loss: 0.9656 - acc: 0.5275 - val_loss: 0.7803 - val_acc: 0.6772\n",
      "Epoch 2/50\n",
      "15663/15663 [==============================] - 1s - loss: 0.7963 - acc: 0.6526 - val_loss: 0.7031 - val_acc: 0.7035\n",
      "Epoch 3/50\n",
      "15663/15663 [==============================] - 1s - loss: 0.7207 - acc: 0.6967 - val_loss: 0.6128 - val_acc: 0.7533\n",
      "Epoch 4/50\n",
      "15663/15663 [==============================] - 1s - loss: 0.6682 - acc: 0.7177 - val_loss: 0.5730 - val_acc: 0.7643\n",
      "Epoch 5/50\n",
      "15663/15663 [==============================] - 1s - loss: 0.6220 - acc: 0.7418 - val_loss: 0.5675 - val_acc: 0.7612\n",
      "Epoch 6/50\n",
      "15663/15663 [==============================] - 1s - loss: 0.5872 - acc: 0.7580 - val_loss: 0.5397 - val_acc: 0.7796\n",
      "Epoch 7/50\n",
      "15663/15663 [==============================] - 1s - loss: 0.5612 - acc: 0.7709 - val_loss: 0.5501 - val_acc: 0.7791\n",
      "Epoch 8/50\n",
      "15663/15663 [==============================] - 1s - loss: 0.5252 - acc: 0.7861 - val_loss: 0.5024 - val_acc: 0.8057\n",
      "Epoch 9/50\n",
      "15663/15663 [==============================] - 1s - loss: 0.4987 - acc: 0.8024 - val_loss: 0.4968 - val_acc: 0.8075\n",
      "Epoch 10/50\n",
      "15663/15663 [==============================] - 1s - loss: 0.4803 - acc: 0.8117 - val_loss: 0.4838 - val_acc: 0.8169\n",
      "Epoch 11/50\n",
      "15663/15663 [==============================] - 1s - loss: 0.4624 - acc: 0.8161 - val_loss: 0.5044 - val_acc: 0.8011\n",
      "Epoch 12/50\n",
      "15663/15663 [==============================] - 1s - loss: 0.4423 - acc: 0.8241 - val_loss: 0.4752 - val_acc: 0.8269\n",
      "Epoch 13/50\n",
      "15663/15663 [==============================] - 1s - loss: 0.4366 - acc: 0.8289 - val_loss: 0.4692 - val_acc: 0.8258\n",
      "Epoch 14/50\n",
      "15663/15663 [==============================] - 1s - loss: 0.4113 - acc: 0.8380 - val_loss: 0.4910 - val_acc: 0.8271\n",
      "Epoch 15/50\n",
      "15663/15663 [==============================] - 1s - loss: 0.3875 - acc: 0.8486 - val_loss: 0.4716 - val_acc: 0.8312\n",
      "Epoch 16/50\n",
      "15552/15663 [============================>.] - ETA: 0s - loss: 0.3782 - acc: 0.8541\n",
      "Epoch 00015: reducing learning rate to 0.00010000000475.\n",
      "15663/15663 [==============================] - 1s - loss: 0.3794 - acc: 0.8539 - val_loss: 0.4875 - val_acc: 0.8294\n",
      "Epoch 17/50\n",
      "15663/15663 [==============================] - 1s - loss: 0.3465 - acc: 0.8655 - val_loss: 0.4643 - val_acc: 0.8371\n",
      "Epoch 18/50\n",
      "15663/15663 [==============================] - 1s - loss: 0.3262 - acc: 0.8774 - val_loss: 0.4658 - val_acc: 0.8389\n",
      "Epoch 19/50\n",
      "15663/15663 [==============================] - 1s - loss: 0.3170 - acc: 0.8791 - val_loss: 0.4671 - val_acc: 0.8394\n",
      "Epoch 20/50\n",
      "15488/15663 [============================>.] - ETA: 0s - loss: 0.3027 - acc: 0.8811\n",
      "Epoch 00019: reducing learning rate to 1.0000000475e-05.\n",
      "15663/15663 [==============================] - 1s - loss: 0.3024 - acc: 0.8812 - val_loss: 0.4754 - val_acc: 0.8394\n",
      "Epoch 21/50\n",
      "15663/15663 [==============================] - 1s - loss: 0.2944 - acc: 0.8887 - val_loss: 0.4723 - val_acc: 0.8396\n",
      "Epoch 22/50\n",
      "15104/15663 [===========================>..] - ETA: 0s - loss: 0.2909 - acc: 0.8908\n",
      "Epoch 00021: reducing learning rate to 1.00000006569e-06.\n",
      "15663/15663 [==============================] - 1s - loss: 0.2903 - acc: 0.8907 - val_loss: 0.4756 - val_acc: 0.8389\n"
     ]
    },
    {
     "data": {
      "text/plain": [
       "<keras.callbacks.History at 0x7fefbc5783d0>"
      ]
     },
     "execution_count": 17,
     "metadata": {},
     "output_type": "execute_result"
    }
   ],
   "source": [
    "earlystop = EarlyStopping(monitor='val_loss', patience=4, verbose=0, mode='auto')\n",
    "reduceLR = ReduceLROnPlateau(monitor='val_loss', factor=0.1, patience=2, verbose=1, mode='min', epsilon=0.0001, min_lr=0.0000001)\n",
    "model.fit(xtrain_pad, y=y_train, batch_size=64, epochs=50, verbose=1, \n",
    "          validation_data=(xvalid_pad, y_valid), callbacks=[earlystop,history,reduceLR])"
   ]
  },
  {
   "cell_type": "code",
   "execution_count": 18,
   "metadata": {},
   "outputs": [
    {
     "data": {
      "image/png": "[encoded data removed]",
      "text/plain": [
       "<matplotlib.figure.Figure at 0x7fefc50a1310>"
      ]
     },
     "metadata": {},
     "output_type": "display_data"
    }
   ],
   "source": [
    "plot_loss()"
   ]
  },
  {
   "cell_type": "code",
   "execution_count": 19,
   "metadata": {
    "collapsed": true
   },
   "outputs": [],
   "source": [
    "#the same operations are also carried out on the test set\n",
    "xtest_seq = token.texts_to_sequences(test_df.text)\n",
    "xtest_pad = sequence.pad_sequences(xtest_seq,maxlen = max_len,padding = 'post')"
   ]
  },
  {
   "cell_type": "code",
   "execution_count": 20,
   "metadata": {
    "collapsed": true
   },
   "outputs": [],
   "source": [
    "# Now predict\n",
    "prediction = model.predict(xtest_pad)"
   ]
  },
  {
   "cell_type": "code",
   "execution_count": 21,
   "metadata": {},
   "outputs": [
    {
     "data": {
      "text/html": [
       "<div>\n",
       "<style>\n",
       "    .dataframe thead tr:only-child th {\n",
       "        text-align: right;\n",
       "    }\n",
       "\n",
       "    .dataframe thead th {\n",
       "        text-align: left;\n",
       "    }\n",
       "\n",
       "    .dataframe tbody tr th {\n",
       "        vertical-align: top;\n",
       "    }\n",
       "</style>\n",
       "<table border=\"1\" class=\"dataframe\">\n",
       "  <thead>\n",
       "    <tr style=\"text-align: right;\">\n",
       "      <th></th>\n",
       "      <th>id</th>\n",
       "      <th>EAP</th>\n",
       "      <th>HPL</th>\n",
       "      <th>MWS</th>\n",
       "    </tr>\n",
       "  </thead>\n",
       "  <tbody>\n",
       "    <tr>\n",
       "      <th>0</th>\n",
       "      <td>id02310</td>\n",
       "      <td>2.812967e-07</td>\n",
       "      <td>1.255051e-08</td>\n",
       "      <td>9.999998e-01</td>\n",
       "    </tr>\n",
       "    <tr>\n",
       "      <th>1</th>\n",
       "      <td>id24541</td>\n",
       "      <td>9.996158e-01</td>\n",
       "      <td>2.558481e-04</td>\n",
       "      <td>1.283002e-04</td>\n",
       "    </tr>\n",
       "    <tr>\n",
       "      <th>2</th>\n",
       "      <td>id00134</td>\n",
       "      <td>1.079516e-06</td>\n",
       "      <td>9.999986e-01</td>\n",
       "      <td>3.969488e-07</td>\n",
       "    </tr>\n",
       "    <tr>\n",
       "      <th>3</th>\n",
       "      <td>id27757</td>\n",
       "      <td>6.362923e-01</td>\n",
       "      <td>3.560344e-01</td>\n",
       "      <td>7.673305e-03</td>\n",
       "    </tr>\n",
       "    <tr>\n",
       "      <th>4</th>\n",
       "      <td>id04081</td>\n",
       "      <td>2.680323e-01</td>\n",
       "      <td>1.998707e-01</td>\n",
       "      <td>5.320970e-01</td>\n",
       "    </tr>\n",
       "  </tbody>\n",
       "</table>\n",
       "</div>"
      ],
      "text/plain": [
       "        id           EAP           HPL           MWS\n",
       "0  id02310  2.812967e-07  1.255051e-08  9.999998e-01\n",
       "1  id24541  9.996158e-01  2.558481e-04  1.283002e-04\n",
       "2  id00134  1.079516e-06  9.999986e-01  3.969488e-07\n",
       "3  id27757  6.362923e-01  3.560344e-01  7.673305e-03\n",
       "4  id04081  2.680323e-01  1.998707e-01  5.320970e-01"
      ]
     },
     "execution_count": 21,
     "metadata": {},
     "output_type": "execute_result"
    }
   ],
   "source": [
    "a2c = {'EAP': 0, 'HPL' : 1, 'MWS' : 2}\n",
    "result = pd.read_csv('../input/sample_submission.csv')\n",
    "for a, i in a2c.items():\n",
    "    result[a] = prediction[:, i]\n",
    "    \n",
    "result.to_csv('../submit/cnnsubmission.csv',index = False)\n",
    "result.head()"
   ]
  },
  {
   "cell_type": "code",
   "execution_count": 22,
   "metadata": {},
   "outputs": [
    {
     "data": {
      "text/html": [
       "<div>\n",
       "<style>\n",
       "    .dataframe thead tr:only-child th {\n",
       "        text-align: right;\n",
       "    }\n",
       "\n",
       "    .dataframe thead th {\n",
       "        text-align: left;\n",
       "    }\n",
       "\n",
       "    .dataframe tbody tr th {\n",
       "        vertical-align: top;\n",
       "    }\n",
       "</style>\n",
       "<table border=\"1\" class=\"dataframe\">\n",
       "  <thead>\n",
       "    <tr style=\"text-align: right;\">\n",
       "      <th></th>\n",
       "      <th>id</th>\n",
       "      <th>EAP</th>\n",
       "      <th>HPL</th>\n",
       "      <th>MWS</th>\n",
       "    </tr>\n",
       "  </thead>\n",
       "  <tbody>\n",
       "    <tr>\n",
       "      <th>0</th>\n",
       "      <td>id02310</td>\n",
       "      <td>2.812967e-07</td>\n",
       "      <td>1.255051e-08</td>\n",
       "      <td>9.999998e-01</td>\n",
       "    </tr>\n",
       "    <tr>\n",
       "      <th>1</th>\n",
       "      <td>id24541</td>\n",
       "      <td>9.996158e-01</td>\n",
       "      <td>2.558481e-04</td>\n",
       "      <td>1.283002e-04</td>\n",
       "    </tr>\n",
       "    <tr>\n",
       "      <th>2</th>\n",
       "      <td>id00134</td>\n",
       "      <td>1.079516e-06</td>\n",
       "      <td>9.999986e-01</td>\n",
       "      <td>3.969488e-07</td>\n",
       "    </tr>\n",
       "    <tr>\n",
       "      <th>3</th>\n",
       "      <td>id27757</td>\n",
       "      <td>6.362923e-01</td>\n",
       "      <td>3.560344e-01</td>\n",
       "      <td>7.673305e-03</td>\n",
       "    </tr>\n",
       "    <tr>\n",
       "      <th>4</th>\n",
       "      <td>id04081</td>\n",
       "      <td>2.680323e-01</td>\n",
       "      <td>1.998707e-01</td>\n",
       "      <td>5.320970e-01</td>\n",
       "    </tr>\n",
       "    <tr>\n",
       "      <th>5</th>\n",
       "      <td>id27337</td>\n",
       "      <td>9.774165e-01</td>\n",
       "      <td>1.921532e-02</td>\n",
       "      <td>3.368123e-03</td>\n",
       "    </tr>\n",
       "    <tr>\n",
       "      <th>6</th>\n",
       "      <td>id24265</td>\n",
       "      <td>9.457399e-01</td>\n",
       "      <td>2.989725e-02</td>\n",
       "      <td>2.436291e-02</td>\n",
       "    </tr>\n",
       "    <tr>\n",
       "      <th>7</th>\n",
       "      <td>id25917</td>\n",
       "      <td>1.541261e-02</td>\n",
       "      <td>6.607283e-03</td>\n",
       "      <td>9.779801e-01</td>\n",
       "    </tr>\n",
       "    <tr>\n",
       "      <th>8</th>\n",
       "      <td>id04951</td>\n",
       "      <td>9.999847e-01</td>\n",
       "      <td>1.496882e-05</td>\n",
       "      <td>2.449362e-07</td>\n",
       "    </tr>\n",
       "    <tr>\n",
       "      <th>9</th>\n",
       "      <td>id14549</td>\n",
       "      <td>9.893505e-01</td>\n",
       "      <td>1.023699e-02</td>\n",
       "      <td>4.125813e-04</td>\n",
       "    </tr>\n",
       "  </tbody>\n",
       "</table>\n",
       "</div>"
      ],
      "text/plain": [
       "        id           EAP           HPL           MWS\n",
       "0  id02310  2.812967e-07  1.255051e-08  9.999998e-01\n",
       "1  id24541  9.996158e-01  2.558481e-04  1.283002e-04\n",
       "2  id00134  1.079516e-06  9.999986e-01  3.969488e-07\n",
       "3  id27757  6.362923e-01  3.560344e-01  7.673305e-03\n",
       "4  id04081  2.680323e-01  1.998707e-01  5.320970e-01\n",
       "5  id27337  9.774165e-01  1.921532e-02  3.368123e-03\n",
       "6  id24265  9.457399e-01  2.989725e-02  2.436291e-02\n",
       "7  id25917  1.541261e-02  6.607283e-03  9.779801e-01\n",
       "8  id04951  9.999847e-01  1.496882e-05  2.449362e-07\n",
       "9  id14549  9.893505e-01  1.023699e-02  4.125813e-04"
      ]
     },
     "execution_count": 22,
     "metadata": {},
     "output_type": "execute_result"
    }
   ],
   "source": [
    "result.head(10)"
   ]
  },
  {
   "cell_type": "code",
   "execution_count": null,
   "metadata": {
    "collapsed": true
   },
   "outputs": [],
   "source": []
  }
 ],
 "metadata": {
  "kernelspec": {
   "display_name": "Python 2",
   "language": "python",
   "name": "python2"
  },
  "language_info": {
   "codemirror_mode": {
    "name": "ipython",
    "version": 2
   },
   "file_extension": ".py",
   "mimetype": "text/x-python",
   "name": "python",
   "nbconvert_exporter": "python",
   "pygments_lexer": "ipython2",
   "version": "2.7.12"
  }
 },
 "nbformat": 4,
 "nbformat_minor": 2
}
